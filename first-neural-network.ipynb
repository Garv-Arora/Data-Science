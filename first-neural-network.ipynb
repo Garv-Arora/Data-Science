{
 "cells": [
  {
   "cell_type": "code",
   "execution_count": 1,
   "id": "dc752560",
   "metadata": {
    "_cell_guid": "b1076dfc-b9ad-4769-8c92-a6c4dae69d19",
    "_uuid": "8f2839f25d086af736a60e9eeb907d3b93b6e0e5",
    "execution": {
     "iopub.execute_input": "2024-10-27T20:55:56.858079Z",
     "iopub.status.busy": "2024-10-27T20:55:56.856638Z",
     "iopub.status.idle": "2024-10-27T20:55:57.945889Z",
     "shell.execute_reply": "2024-10-27T20:55:57.944220Z"
    },
    "papermill": {
     "duration": 1.098474,
     "end_time": "2024-10-27T20:55:57.949006",
     "exception": false,
     "start_time": "2024-10-27T20:55:56.850532",
     "status": "completed"
    },
    "tags": []
   },
   "outputs": [],
   "source": [
    "import numpy as np\n",
    "import pandas as pd\n",
    "from matplotlib import pyplot as plt"
   ]
  },
  {
   "cell_type": "code",
   "execution_count": 2,
   "id": "d456b8b2",
   "metadata": {
    "execution": {
     "iopub.execute_input": "2024-10-27T20:55:57.959940Z",
     "iopub.status.busy": "2024-10-27T20:55:57.959322Z",
     "iopub.status.idle": "2024-10-27T20:56:02.422230Z",
     "shell.execute_reply": "2024-10-27T20:56:02.420680Z"
    },
    "papermill": {
     "duration": 4.471518,
     "end_time": "2024-10-27T20:56:02.425366",
     "exception": false,
     "start_time": "2024-10-27T20:55:57.953848",
     "status": "completed"
    },
    "tags": []
   },
   "outputs": [],
   "source": [
    "data = pd.read_csv('/kaggle/input/digit-recognizer/train.csv')"
   ]
  },
  {
   "cell_type": "code",
   "execution_count": 3,
   "id": "3be0416b",
   "metadata": {
    "execution": {
     "iopub.execute_input": "2024-10-27T20:56:02.435085Z",
     "iopub.status.busy": "2024-10-27T20:56:02.434608Z",
     "iopub.status.idle": "2024-10-27T20:56:03.185057Z",
     "shell.execute_reply": "2024-10-27T20:56:03.183977Z"
    },
    "papermill": {
     "duration": 0.75893,
     "end_time": "2024-10-27T20:56:03.188290",
     "exception": false,
     "start_time": "2024-10-27T20:56:02.429360",
     "status": "completed"
    },
    "tags": []
   },
   "outputs": [],
   "source": [
    "data = np.array(data)\n",
    "m, n = data.shape\n",
    "np.random.shuffle(data)"
   ]
  },
  {
   "cell_type": "code",
   "execution_count": 4,
   "id": "ea8b81ba",
   "metadata": {
    "execution": {
     "iopub.execute_input": "2024-10-27T20:56:03.197849Z",
     "iopub.status.busy": "2024-10-27T20:56:03.197399Z",
     "iopub.status.idle": "2024-10-27T20:56:03.312398Z",
     "shell.execute_reply": "2024-10-27T20:56:03.311333Z"
    },
    "papermill": {
     "duration": 0.122998,
     "end_time": "2024-10-27T20:56:03.315228",
     "exception": false,
     "start_time": "2024-10-27T20:56:03.192230",
     "status": "completed"
    },
    "tags": []
   },
   "outputs": [],
   "source": [
    "data_dev = data[0:1000].T\n",
    "Y_dev = data_dev[0]\n",
    "X_dev = data_dev[1:n]\n",
    "X_dev = X_dev / 255\n",
    "\n",
    "data_train = data[1000:m].T\n",
    "Y_train = data_train[0]\n",
    "X_train = data_train[1:n]\n",
    "X_train = X_train / 255\n",
    "\n",
    "m = X_train.shape[1]"
   ]
  },
  {
   "cell_type": "code",
   "execution_count": 5,
   "id": "44b7a2ec",
   "metadata": {
    "execution": {
     "iopub.execute_input": "2024-10-27T20:56:03.324743Z",
     "iopub.status.busy": "2024-10-27T20:56:03.324351Z",
     "iopub.status.idle": "2024-10-27T20:56:03.339793Z",
     "shell.execute_reply": "2024-10-27T20:56:03.338609Z"
    },
    "papermill": {
     "duration": 0.023189,
     "end_time": "2024-10-27T20:56:03.342296",
     "exception": false,
     "start_time": "2024-10-27T20:56:03.319107",
     "status": "completed"
    },
    "tags": []
   },
   "outputs": [],
   "source": [
    "def init_params():\n",
    "    W1 = np.random.rand(10, 784) - 0.5\n",
    "    b1 = np.random.rand(10, 1) - 0.5\n",
    "    W2 = np.random.rand(10, 10) - 0.5\n",
    "    b2 = np.random.rand(10, 1) - 0.5\n",
    "    return W1, b1, W2, b2 \n",
    "    \n",
    "def ReLU(Z):\n",
    "    return np.maximum(0, Z)\n",
    "\n",
    "def softmax(Z):\n",
    "    return np.exp(Z) / np.sum(np.exp(Z), axis = 0)\n",
    "\n",
    "def forward_prop(W1, b1, W2, b2, X):\n",
    "    Z1 = W1.dot(X) + b1\n",
    "    A1 = ReLU(Z1)\n",
    "    Z2 = W2.dot(A1) + b2\n",
    "    A2 = softmax(Z2)\n",
    "    return Z1, A1, Z2, A2\n",
    "    \n",
    "def one_hot(Y):\n",
    "    one_hot_Y = np.zeros((Y.size, Y.max()+1))\n",
    "    one_hot_Y[np.arange(Y.size), Y] = 1\n",
    "    one_hot_Y = one_hot_Y.T\n",
    "    return one_hot_Y\n",
    "\n",
    "def deriv_ReLU(Z):\n",
    "    return Z > 0\n",
    "\n",
    "def back_prop(Z1, A1, Z2, A2, W2, X, Y):\n",
    "    one_hot_Y = one_hot(Y)\n",
    "    dZ2 = A2 - one_hot_Y\n",
    "    dW2 = 1 / m * dZ2.dot(A1.T)\n",
    "    db2 = 1 / m * np.sum(dZ2, axis = 0)\n",
    "    dZ1 = W2.T.dot(dZ2) * deriv_ReLU(Z1)\n",
    "    dW1 = 1 / m * dZ1.dot(X.T)\n",
    "    db1 = 1 / m * np.sum(dZ1, axis = 0)\n",
    "    return dW1, db1, dW2, db2\n",
    "\n",
    "def update_params(W1, b1, W2, b2, dW1, db1, dW2, db2, alpha):\n",
    "    W1 = W1 - alpha * dW1\n",
    "    b1 = b1 - alpha * db1\n",
    "    W2 = W2 - alpha * dW2\n",
    "    b2 = b2 - alpha * db2\n",
    "    return W1, b1, W2, b2"
   ]
  },
  {
   "cell_type": "code",
   "execution_count": 6,
   "id": "b6bc6ce6",
   "metadata": {
    "execution": {
     "iopub.execute_input": "2024-10-27T20:56:03.351643Z",
     "iopub.status.busy": "2024-10-27T20:56:03.351227Z",
     "iopub.status.idle": "2024-10-27T20:56:03.361106Z",
     "shell.execute_reply": "2024-10-27T20:56:03.359857Z"
    },
    "papermill": {
     "duration": 0.017442,
     "end_time": "2024-10-27T20:56:03.363560",
     "exception": false,
     "start_time": "2024-10-27T20:56:03.346118",
     "status": "completed"
    },
    "tags": []
   },
   "outputs": [],
   "source": [
    "#For getting accuracy % for the model created:\n",
    "\n",
    "def get_predictions(A2):\n",
    "    return np.argmax(A2, 0)\n",
    "\n",
    "def get_accuracy(predictions, Y):\n",
    "    print(predictions, Y)\n",
    "    return np.sum(predictions == Y) / Y.size\n",
    "\n",
    "#---------------------------------------------\n",
    "\n",
    "def gradient_descent(X, Y, interations, alpha):\n",
    "    W1, b1, W2, b2 = init_params()\n",
    "    for i in range(interations):\n",
    "        Z1, A1, Z2, A2 = forward_prop(W1, b1, W2, b2, X)\n",
    "        dW1, db1, dW2, db2 = back_prop(Z1, A1, Z2, A2, W2, X, Y)\n",
    "        W1, b1, W2, b2 = update_params(W1, b1, W2, b2, dW1, db1, dW2, db2, alpha)\n",
    "        \n",
    "        if (i % 10 == 0):\n",
    "            print('Iteration: ', i)\n",
    "            print('Accuracy: ', get_accuracy(get_predictions(A2), Y))\n",
    "    return W1, b1, W2, b2"
   ]
  },
  {
   "cell_type": "code",
   "execution_count": 7,
   "id": "69ef5891",
   "metadata": {
    "execution": {
     "iopub.execute_input": "2024-10-27T20:56:03.372979Z",
     "iopub.status.busy": "2024-10-27T20:56:03.372535Z",
     "iopub.status.idle": "2024-10-27T20:56:16.728394Z",
     "shell.execute_reply": "2024-10-27T20:56:16.726748Z"
    },
    "papermill": {
     "duration": 13.36538,
     "end_time": "2024-10-27T20:56:16.732795",
     "exception": false,
     "start_time": "2024-10-27T20:56:03.367415",
     "status": "completed"
    },
    "tags": []
   },
   "outputs": [
    {
     "name": "stdout",
     "output_type": "stream",
     "text": [
      "Iteration:  0\n",
      "[3 5 9 ... 3 9 3] [3 0 5 ... 6 2 0]\n",
      "Accuracy:  0.11192682926829269\n",
      "Iteration:  10\n",
      "[3 4 1 ... 3 7 0] [3 0 5 ... 6 2 0]\n",
      "Accuracy:  0.188\n",
      "Iteration:  20\n",
      "[6 0 1 ... 6 7 0] [3 0 5 ... 6 2 0]\n",
      "Accuracy:  0.2594390243902439\n",
      "Iteration:  30\n",
      "[6 0 1 ... 6 6 0] [3 0 5 ... 6 2 0]\n",
      "Accuracy:  0.31209756097560976\n",
      "Iteration:  40\n",
      "[6 0 1 ... 6 6 0] [3 0 5 ... 6 2 0]\n",
      "Accuracy:  0.3571951219512195\n",
      "Iteration:  50\n",
      "[6 0 1 ... 6 6 0] [3 0 5 ... 6 2 0]\n",
      "Accuracy:  0.4277073170731707\n",
      "Iteration:  60\n",
      "[6 0 1 ... 6 6 0] [3 0 5 ... 6 2 0]\n",
      "Accuracy:  0.501780487804878\n",
      "Iteration:  70\n",
      "[2 0 1 ... 2 6 0] [3 0 5 ... 6 2 0]\n",
      "Accuracy:  0.5416585365853659\n",
      "Iteration:  80\n",
      "[2 0 5 ... 2 2 0] [3 0 5 ... 6 2 0]\n",
      "Accuracy:  0.5772439024390243\n",
      "Iteration:  90\n",
      "[2 0 5 ... 2 2 0] [3 0 5 ... 6 2 0]\n",
      "Accuracy:  0.6070975609756097\n"
     ]
    }
   ],
   "source": [
    "W1, b1, W2, b2 = gradient_descent(X_train, Y_train, 100, 0.1)"
   ]
  },
  {
   "cell_type": "code",
   "execution_count": null,
   "id": "7ce0d880",
   "metadata": {
    "papermill": {
     "duration": 0.009361,
     "end_time": "2024-10-27T20:56:16.751987",
     "exception": false,
     "start_time": "2024-10-27T20:56:16.742626",
     "status": "completed"
    },
    "tags": []
   },
   "outputs": [],
   "source": []
  }
 ],
 "metadata": {
  "kaggle": {
   "accelerator": "none",
   "dataSources": [
    {
     "databundleVersionId": 861823,
     "sourceId": 3004,
     "sourceType": "competition"
    }
   ],
   "dockerImageVersionId": 30786,
   "isGpuEnabled": false,
   "isInternetEnabled": false,
   "language": "python",
   "sourceType": "notebook"
  },
  "kernelspec": {
   "display_name": "Python 3",
   "language": "python",
   "name": "python3"
  },
  "language_info": {
   "codemirror_mode": {
    "name": "ipython",
    "version": 3
   },
   "file_extension": ".py",
   "mimetype": "text/x-python",
   "name": "python",
   "nbconvert_exporter": "python",
   "pygments_lexer": "ipython3",
   "version": "3.10.14"
  },
  "papermill": {
   "default_parameters": {},
   "duration": 23.728131,
   "end_time": "2024-10-27T20:56:17.293659",
   "environment_variables": {},
   "exception": null,
   "input_path": "__notebook__.ipynb",
   "output_path": "__notebook__.ipynb",
   "parameters": {},
   "start_time": "2024-10-27T20:55:53.565528",
   "version": "2.6.0"
  }
 },
 "nbformat": 4,
 "nbformat_minor": 5
}
